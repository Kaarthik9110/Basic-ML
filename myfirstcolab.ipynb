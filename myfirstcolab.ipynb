{
  "nbformat": 4,
  "nbformat_minor": 0,
  "metadata": {
    "colab": {
      "name": "myfirstcolab.ipynb",
      "provenance": [],
      "collapsed_sections": [],
      "authorship_tag": "ABX9TyOFix75aBIxUsw3ifrjEef8",
      "include_colab_link": true
    },
    "kernelspec": {
      "name": "python3",
      "display_name": "Python 3"
    },
    "language_info": {
      "name": "python"
    }
  },
  "cells": [
    {
      "cell_type": "markdown",
      "metadata": {
        "id": "view-in-github",
        "colab_type": "text"
      },
      "source": [
        "<a href=\"https://colab.research.google.com/github/Kaarthik9110/Basic-ML/blob/main/myfirstcolab.ipynb\" target=\"_parent\"><img src=\"https://colab.research.google.com/assets/colab-badge.svg\" alt=\"Open In Colab\"/></a>"
      ]
    },
    {
      "cell_type": "markdown",
      "metadata": {
        "id": "fA2X875D84w9"
      },
      "source": [
        "\n",
        "**Python program for finding sum of N natural numbers:**"
      ]
    },
    {
      "cell_type": "code",
      "metadata": {
        "colab": {
          "base_uri": "https://localhost:8080/"
        },
        "id": "epARPsup89Eu",
        "outputId": "1b69926d-72cb-47c1-e8ed-acfac11fe4a6"
      },
      "source": [
        "N = int(input())\n",
        "\n",
        "if N< 0:\n",
        "   print(\"Enter a positive number\")\n",
        "else:\n",
        "   sum = 0\n",
        "   while(N > 0):\n",
        "       sum +=N \n",
        "       N -= 1\n",
        "   print(\"The sum is\", sum)"
      ],
      "execution_count": 2,
      "outputs": [
        {
          "output_type": "stream",
          "text": [
            "15\n",
            "The sum is 120\n"
          ],
          "name": "stdout"
        }
      ]
    },
    {
      "cell_type": "markdown",
      "metadata": {
        "id": "bUfT3xlJ9UcZ"
      },
      "source": [
        "This program is used to calculate the sum of N natural numbers.To test the program for a different number, change the value of N.Initially, the sum is initialized to 0. And, the number is stored in variable num.Then, we used the while loop to iterate until N becomes zero. In each iteration of the loop, we have added the N to sum and the value of N is decreased by 1."
      ]
    },
    {
      "cell_type": "markdown",
      "metadata": {
        "id": "BIghCOxx-P4j"
      },
      "source": [
        "**Python Program to Swap Two Variables:**"
      ]
    },
    {
      "cell_type": "code",
      "metadata": {
        "colab": {
          "base_uri": "https://localhost:8080/"
        },
        "id": "PTGXGn9i_PnB",
        "outputId": "dd976f72-0254-4f3f-c4e7-383253733628"
      },
      "source": [
        "x = input('Enter value of x: ')\n",
        "y = input('Enter value of y: ')\n",
        "temp = x\n",
        "x = y\n",
        "y = temp\n",
        "\n",
        "print('The value of x after swapping: {}'.format(x))\n",
        "print('The value of y after swapping: {}'.format(y))"
      ],
      "execution_count": 4,
      "outputs": [
        {
          "output_type": "stream",
          "text": [
            "Enter value of x: 6\n",
            "Enter value of y: 85\n",
            "The value of x after swapping: 85\n",
            "The value of y after swapping: 6\n"
          ],
          "name": "stdout"
        }
      ]
    },
    {
      "cell_type": "markdown",
      "metadata": {
        "id": "BGZkY2Eg_hL3"
      },
      "source": [
        "With the help of above program we can swap two variables using python.\n",
        "In this program, we use the temp variable to hold the value of x temporarily. We then put the value of y in x and later temp in y. In this way, the values get exchanged. "
      ]
    },
    {
      "cell_type": "markdown",
      "metadata": {
        "id": "errAU2en_47T"
      },
      "source": [
        "**Python program for finding factorial:**"
      ]
    },
    {
      "cell_type": "code",
      "metadata": {
        "id": "e9h_yVOr__Wu"
      },
      "source": [
        "N = int(input(\"Enter a number: \"))    \n",
        "factorial = 1    \n",
        "if N < 0:    \n",
        "   print(\" Factorial does not exist for negative numbers\")    \n",
        "elif N == 0:    \n",
        "   print(\"The factorial of 0 is 1\")    \n",
        "else:    \n",
        "   for i in range(1,N+ 1):    \n",
        "       factorial = factorial*i    \n",
        "   print(\"The factorial of\",N,\"is\",factorial)"
      ],
      "execution_count": null,
      "outputs": []
    },
    {
      "cell_type": "markdown",
      "metadata": {
        "id": "PuvRb6C3A_fG"
      },
      "source": [
        " find the factorial of a number using python.\n",
        "when the user inputs a number, the above python  program calculates the factorial.\n",
        "Here, the number whose factorial is to be found is stored in num, and we check if the number is negative, zero or positive using if...elif...else statement. If the number is positive, we use for loop and range() function to calculate the factorial."
      ]
    }
  ]
}